{
 "cells": [
  {
   "cell_type": "code",
   "execution_count": 84,
   "metadata": {},
   "outputs": [],
   "source": [
    "import os\n",
    "import matplotlib.pyplot as plt\n",
    "import numpy as np\n",
    "import re"
   ]
  },
  {
   "cell_type": "markdown",
   "metadata": {},
   "source": [
    "Read From Input File"
   ]
  },
  {
   "cell_type": "code",
   "execution_count": 86,
   "metadata": {},
   "outputs": [],
   "source": [
    "filename = 'input.txt'\n",
    "file = open(filename,'rt')\n",
    "inputParam = []\n",
    "\n",
    "for line in file:\n",
    "    for word in line.split():\n",
    "        inputParam.append(float(word))\n",
    "\n",
    "file.close()"
   ]
  },
  {
   "cell_type": "markdown",
   "metadata": {},
   "source": [
    "Generate Processes and Write to Output file"
   ]
  },
  {
   "cell_type": "code",
   "execution_count": 88,
   "metadata": {},
   "outputs": [],
   "source": [
    "class Process:\n",
    "    def __init__(self,Number,Arrival_time, Burst_time , Priority):\n",
    "        self.Number = Number\n",
    "        self.Arrival_time = Arrival_time\n",
    "        self.Burst_time = Burst_time\n",
    "        self.Priority = Priority\n",
    "\n",
    "Processes = []\n",
    "for i in range (int(inputParam[0])):\n",
    "    p  = Process(i+1,int(np.random.normal(inputParam[1],inputParam[2])),int(np.random.normal(inputParam[3],inputParam[4]))\\\n",
    "                 ,int(np.random.exponential(inputParam[5])))\n",
    "    Processes.append(p)\n",
    "    \n",
    "filename = 'output.txt'\n",
    "file = open(filename,'w+')\n",
    "print(int(inputParam[0]),file=file)\n",
    "for x in Processes:\n",
    "    #print(x.Number,x.Arrival_time,x.Burst_time,x.Priority)\n",
    "    print(x.Number,x.Arrival_time,x.Burst_time,x.Priority,file = file)\n",
    "file.close()"
   ]
  },
  {
   "cell_type": "code",
   "execution_count": null,
   "metadata": {},
   "outputs": [],
   "source": []
  },
  {
   "cell_type": "code",
   "execution_count": null,
   "metadata": {},
   "outputs": [],
   "source": []
  },
  {
   "cell_type": "code",
   "execution_count": null,
   "metadata": {},
   "outputs": [],
   "source": []
  }
 ],
 "metadata": {
  "kernelspec": {
   "display_name": "Python 3",
   "language": "python",
   "name": "python3"
  },
  "language_info": {
   "codemirror_mode": {
    "name": "ipython",
    "version": 3
   },
   "file_extension": ".py",
   "mimetype": "text/x-python",
   "name": "python",
   "nbconvert_exporter": "python",
   "pygments_lexer": "ipython3",
   "version": "3.7.5"
  }
 },
 "nbformat": 4,
 "nbformat_minor": 2
}
